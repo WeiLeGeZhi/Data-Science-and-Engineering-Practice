{
 "cells": [
  {
   "cell_type": "code",
   "execution_count": 1,
   "id": "1bbc8d42",
   "metadata": {},
   "outputs": [
    {
     "ename": "ModuleNotFoundError",
     "evalue": "No module named 'ollama'",
     "output_type": "error",
     "traceback": [
      "\u001b[1;31m---------------------------------------------------------------------------\u001b[0m",
      "\u001b[1;31mModuleNotFoundError\u001b[0m                       Traceback (most recent call last)",
      "Cell \u001b[1;32mIn[1], line 2\u001b[0m\n\u001b[0;32m      1\u001b[0m \u001b[38;5;28;01mimport\u001b[39;00m \u001b[38;5;21;01mjson\u001b[39;00m\n\u001b[1;32m----> 2\u001b[0m \u001b[38;5;28;01mimport\u001b[39;00m \u001b[38;5;21;01mollama\u001b[39;00m\n\u001b[0;32m      4\u001b[0m \u001b[38;5;66;03m# 加载数据集中的文件\u001b[39;00m\n\u001b[0;32m      5\u001b[0m \u001b[38;5;28;01mwith\u001b[39;00m \u001b[38;5;28mopen\u001b[39m(\u001b[38;5;124m'\u001b[39m\u001b[38;5;124mqa.en.lisp.json\u001b[39m\u001b[38;5;124m'\u001b[39m, \u001b[38;5;124m'\u001b[39m\u001b[38;5;124mr\u001b[39m\u001b[38;5;124m'\u001b[39m, encoding\u001b[38;5;241m=\u001b[39m\u001b[38;5;124m'\u001b[39m\u001b[38;5;124mutf-8\u001b[39m\u001b[38;5;124m'\u001b[39m) \u001b[38;5;28;01mas\u001b[39;00m f:\n",
      "\u001b[1;31mModuleNotFoundError\u001b[0m: No module named 'ollama'"
     ]
    }
   ],
   "source": [
    "import json\n",
    "import ollama\n",
    "\n",
    "# 加载数据集中的文件\n",
    "with open('qa.en.lisp.json', 'r', encoding='utf-8') as f:\n",
    "    qa_data = json.load(f)\n",
    "\n",
    "def qwen_llm(prompt):\n",
    "    # 使用qwen2.5:14b-instruct-fp16模型生成答案\n",
    "    response = ollama.chat(model='qwen2.5:14b-instruct-fp16', messages=[{'role': 'user', 'content': prompt}])\n",
    "    return response['response']\n",
    "\n",
    "def generate_prompt(question, knowledge_base_context=\"\"):\n",
    "    prompt = f\"\"\"\n",
    "    # Role\n",
    "    You are a proficient expert specializing in answering questions about the Lisp programming language.\n",
    "\n",
    "    ### System Instructions:\n",
    "    1. Analyze the question carefully to understand the user’s intent.\n",
    "\n",
    "    2. **If previous_relevant_qa or knowledge_base_context is provided**:\n",
    "       - If *previous_relevant_qa* is highly similar to the *Given Question*, directly use the answer from previous_relevant_qa without modifications.\n",
    "       - If *previous_relevant_qa* is not available or not highly similar, use the information from the knowledge_base_context to provide a well-informed answer.\n",
    "       - If neither context provides sufficient information to answer the question, respond with: \"Unable to answer based on the available knowledge.\"\n",
    "       - Ensure responses are accurate, relevant, and avoid adding unrelated information.\n",
    "\n",
    "    3. **If no context is provided**:\n",
    "       - Use your in-depth knowledge of the Lisp programming language to answer the question directly.\n",
    "       - If the LLM's internal knowledge base does not provide a sufficient answer, respond with: \"Unable to answer based on the available knowledge.\"\n",
    "\n",
    "    Context:\n",
    "    - Knowledge Base: {knowledge_base_context}\n",
    "    - Previous Relevant Q&A: \n",
    "\n",
    "    Given Question: {question}\n",
    "    Respond to the given question in JSON format, structured as \"answer\": \"your answer\"\n",
    "    \"\"\"\n",
    "    return prompt\n",
    "\n",
    "# 示例使用\n",
    "for qa in qa_data:\n",
    "    question = qa['question']\n",
    "    knowledge_base_context = \"\"  # 如果有召回文档，可以放在这里\n",
    "    prompt = generate_prompt(question, knowledge_base_context)\n",
    "    \n",
    "    answer = qwen_llm(prompt)\n",
    "    print(f\"Question: {question}\")\n",
    "    print(f\"Answer: {answer}\")\n"
   ]
  },
  {
   "cell_type": "code",
   "execution_count": null,
   "id": "b4d9d550",
   "metadata": {},
   "outputs": [],
   "source": []
  }
 ],
 "metadata": {
  "kernelspec": {
   "display_name": "Python 3 (ipykernel)",
   "language": "python",
   "name": "python3"
  },
  "language_info": {
   "codemirror_mode": {
    "name": "ipython",
    "version": 3
   },
   "file_extension": ".py",
   "mimetype": "text/x-python",
   "name": "python",
   "nbconvert_exporter": "python",
   "pygments_lexer": "ipython3",
   "version": "3.11.7"
  }
 },
 "nbformat": 4,
 "nbformat_minor": 5
}
